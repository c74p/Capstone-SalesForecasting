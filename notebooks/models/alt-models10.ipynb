{
 "cells": [
  {
   "cell_type": "code",
   "execution_count": 1,
   "metadata": {},
   "outputs": [],
   "source": [
    "import contextlib\n",
    "from datetime import datetime\n",
    "from fastai import *\n",
    "from fastai.tabular import *\n",
    "import io\n",
    "import pandas as pd\n",
    "from pathlib import Path\n",
    "import random"
   ]
  },
  {
   "cell_type": "code",
   "execution_count": 2,
   "metadata": {},
   "outputs": [],
   "source": [
    "DATA_PATH = Path('../../data/interim')\n",
    "path = Path('../../models/')"
   ]
  },
  {
   "cell_type": "code",
   "execution_count": 3,
   "metadata": {},
   "outputs": [
    {
     "data": {
      "text/html": [
       "<table>  <col width='10%'>  <col width='10%'>  <col width='10%'>  <col width='10%'>  <col width='10%'>  <col width='10%'>  <col width='10%'>  <col width='10%'>  <col width='10%'>  <col width='10%'>  <col width='10%'>  <col width='10%'>  <col width='10%'>  <col width='10%'>  <col width='10%'>  <col width='10%'>  <col width='10%'>  <col width='10%'>  <col width='10%'>  <col width='10%'>  <col width='10%'>  <col width='10%'>  <col width='10%'>  <col width='10%'>  <col width='10%'>  <col width='10%'>  <col width='10%'>  <col width='10%'>  <col width='10%'>  <col width='10%'>  <col width='10%'>  <col width='10%'>  <col width='10%'>  <col width='10%'>  <col width='10%'>  <col width='10%'>  <col width='10%'>  <col width='10%'>  <col width='10%'>  <col width='10%'>  <col width='10%'>  <col width='10%'>  <col width='10%'>  <col width='10%'>  <col width='10%'>  <col width='10%'>  <col width='10%'>  <col width='10%'>  <col width='10%'>  <col width='10%'>  <col width='10%'>  <col width='10%'>  <col width='10%'>  <col width='10%'>  <col width='10%'>  <tr>\n",
       "    <th>assortment</th>\n",
       "    <th>events</th>\n",
       "    <th>promo_interval</th>\n",
       "    <th>state</th>\n",
       "    <th>state_holiday</th>\n",
       "    <th>store_type</th>\n",
       "    <th>Day</th>\n",
       "    <th>Dayofweek</th>\n",
       "    <th>Is_month_end</th>\n",
       "    <th>Is_month_start</th>\n",
       "    <th>Is_quarter_end</th>\n",
       "    <th>Is_quarter_start</th>\n",
       "    <th>Is_year_end</th>\n",
       "    <th>Is_year_start</th>\n",
       "    <th>Month</th>\n",
       "    <th>Week</th>\n",
       "    <th>Year</th>\n",
       "    <th>school_holiday</th>\n",
       "    <th>max_wind_speed_km_h</th>\n",
       "    <th>max_gust_speed_km_h</th>\n",
       "    <th>sales</th>\n",
       "    <th>max_sea_level_pressureh_pa</th>\n",
       "    <th>dew_point_c</th>\n",
       "    <th>precipitationmm</th>\n",
       "    <th>competition_open_since_month</th>\n",
       "    <th>mean_dew_point_c</th>\n",
       "    <th>mean_visibility_km</th>\n",
       "    <th>max_temperature_c</th>\n",
       "    <th>wind_dir_degrees</th>\n",
       "    <th>competition_open_since_year</th>\n",
       "    <th>customers</th>\n",
       "    <th>promo2</th>\n",
       "    <th>mean_humidity</th>\n",
       "    <th>store</th>\n",
       "    <th>min_sea_level_pressureh_pa</th>\n",
       "    <th>min_dew_point_c</th>\n",
       "    <th>promo</th>\n",
       "    <th>Elapsed</th>\n",
       "    <th>max_humidity</th>\n",
       "    <th>cloud_cover</th>\n",
       "    <th>mean_wind_speed_km_h</th>\n",
       "    <th>max_visibility_km</th>\n",
       "    <th>promo2_since_year</th>\n",
       "    <th>min_humidity</th>\n",
       "    <th>competition_distance</th>\n",
       "    <th>Dayofyear</th>\n",
       "    <th>min_visibility_km</th>\n",
       "    <th>open</th>\n",
       "    <th>min_temperature_c</th>\n",
       "    <th>mean_sea_level_pressureh_pa</th>\n",
       "    <th>mean_temperature_c</th>\n",
       "    <th>promo2_since_week</th>\n",
       "    <th>day_of_week</th>\n",
       "    <th>trend</th>\n",
       "    <th>target</th>\n",
       "  </tr>\n",
       "  <tr>\n",
       "    <th>a</th>\n",
       "    <th>Fog</th>\n",
       "    <th>Feb,May,Aug,Nov</th>\n",
       "    <th>NW</th>\n",
       "    <th>0</th>\n",
       "    <th>d</th>\n",
       "    <th>14</th>\n",
       "    <th>4</th>\n",
       "    <th>False</th>\n",
       "    <th>False</th>\n",
       "    <th>False</th>\n",
       "    <th>False</th>\n",
       "    <th>False</th>\n",
       "    <th>False</th>\n",
       "    <th>3</th>\n",
       "    <th>11</th>\n",
       "    <th>2014</th>\n",
       "    <th>-0.4785</th>\n",
       "    <th>-1.1674</th>\n",
       "    <th>0.0084</th>\n",
       "    <th>-0.6132</th>\n",
       "    <th>1.2893</th>\n",
       "    <th>-0.4741</th>\n",
       "    <th>-0.3089</th>\n",
       "    <th>0.0054</th>\n",
       "    <th>-0.5947</th>\n",
       "    <th>-0.6138</th>\n",
       "    <th>0.2705</th>\n",
       "    <th>1.1336</th>\n",
       "    <th>-0.0321</th>\n",
       "    <th>-0.7200</th>\n",
       "    <th>1.0334</th>\n",
       "    <th>-0.6068</th>\n",
       "    <th>-0.7848</th>\n",
       "    <th>0.8639</th>\n",
       "    <th>-0.6651</th>\n",
       "    <th>-0.8994</th>\n",
       "    <th>0.0204</th>\n",
       "    <th>0.3136</th>\n",
       "    <th>0.0920</th>\n",
       "    <th>-1.2424</th>\n",
       "    <th>-0.4585</th>\n",
       "    <th>-2.3981</th>\n",
       "    <th>-1.0198</th>\n",
       "    <th>0.4561</th>\n",
       "    <th>-0.8424</th>\n",
       "    <th>-0.9059</th>\n",
       "    <th>0.0000</th>\n",
       "    <th>-1.0254</th>\n",
       "    <th>1.2695</th>\n",
       "    <th>-0.2237</th>\n",
       "    <th>1.3606</th>\n",
       "    <th>0.8574</th>\n",
       "    <th>-0.4784</th>\n",
       "    <th>8.551015</th>\n",
       "  </tr>\n",
       "  <tr>\n",
       "    <th>c</th>\n",
       "    <th>Fog-Snow</th>\n",
       "    <th>Jan,Apr,Jul,Oct</th>\n",
       "    <th>BY</th>\n",
       "    <th>0</th>\n",
       "    <th>a</th>\n",
       "    <th>25</th>\n",
       "    <th>0</th>\n",
       "    <th>False</th>\n",
       "    <th>False</th>\n",
       "    <th>False</th>\n",
       "    <th>False</th>\n",
       "    <th>False</th>\n",
       "    <th>False</th>\n",
       "    <th>2</th>\n",
       "    <th>9</th>\n",
       "    <th>2013</th>\n",
       "    <th>-0.4785</th>\n",
       "    <th>-0.8316</th>\n",
       "    <th>0.0084</th>\n",
       "    <th>-0.6845</th>\n",
       "    <th>0.4250</th>\n",
       "    <th>-1.7907</th>\n",
       "    <th>-0.3089</th>\n",
       "    <th>-1.9911</th>\n",
       "    <th>-1.7760</th>\n",
       "    <th>-1.4935</th>\n",
       "    <th>-1.4128</th>\n",
       "    <th>1.1976</th>\n",
       "    <th>-0.1657</th>\n",
       "    <th>-0.4977</th>\n",
       "    <th>1.0334</th>\n",
       "    <th>0.9351</th>\n",
       "    <th>0.3349</th>\n",
       "    <th>0.0818</th>\n",
       "    <th>-2.1761</th>\n",
       "    <th>-0.8994</th>\n",
       "    <th>-1.4654</th>\n",
       "    <th>0.8369</th>\n",
       "    <th>0.3780</th>\n",
       "    <th>-0.2451</th>\n",
       "    <th>-1.5401</th>\n",
       "    <th>-1.5211</th>\n",
       "    <th>0.4547</th>\n",
       "    <th>-0.4038</th>\n",
       "    <th>-1.0053</th>\n",
       "    <th>-1.1269</th>\n",
       "    <th>0.0000</th>\n",
       "    <th>-2.4395</th>\n",
       "    <th>0.2028</th>\n",
       "    <th>-1.9099</th>\n",
       "    <th>1.5700</th>\n",
       "    <th>-1.4616</th>\n",
       "    <th>-1.7183</th>\n",
       "    <th>8.507143</th>\n",
       "  </tr>\n",
       "  <tr>\n",
       "    <th>a</th>\n",
       "    <th>Rain</th>\n",
       "    <th>None</th>\n",
       "    <th>NW</th>\n",
       "    <th>0</th>\n",
       "    <th>a</th>\n",
       "    <th>2</th>\n",
       "    <th>4</th>\n",
       "    <th>False</th>\n",
       "    <th>False</th>\n",
       "    <th>False</th>\n",
       "    <th>False</th>\n",
       "    <th>False</th>\n",
       "    <th>False</th>\n",
       "    <th>5</th>\n",
       "    <th>18</th>\n",
       "    <th>2014</th>\n",
       "    <th>-0.4785</th>\n",
       "    <th>-0.0478</th>\n",
       "    <th>0.0084</th>\n",
       "    <th>-0.0910</th>\n",
       "    <th>0.5485</th>\n",
       "    <th>0.5133</th>\n",
       "    <th>-0.3089</th>\n",
       "    <th>0.0054</th>\n",
       "    <th>0.4179</th>\n",
       "    <th>-0.3938</th>\n",
       "    <th>-0.2104</th>\n",
       "    <th>1.8904</th>\n",
       "    <th>-0.0321</th>\n",
       "    <th>0.0330</th>\n",
       "    <th>-0.9677</th>\n",
       "    <th>0.6267</th>\n",
       "    <th>-0.4229</th>\n",
       "    <th>-0.1417</th>\n",
       "    <th>0.1744</th>\n",
       "    <th>1.1118</th>\n",
       "    <th>0.2110</th>\n",
       "    <th>0.1828</th>\n",
       "    <th>1.0155</th>\n",
       "    <th>0.2536</th>\n",
       "    <th>0.2987</th>\n",
       "    <th>0.0256</th>\n",
       "    <th>0.4547</th>\n",
       "    <th>-0.6384</th>\n",
       "    <th>-0.3729</th>\n",
       "    <th>-0.9059</th>\n",
       "    <th>0.0000</th>\n",
       "    <th>0.3888</th>\n",
       "    <th>0.0842</th>\n",
       "    <th>0.0574</th>\n",
       "    <th>-0.0432</th>\n",
       "    <th>0.8574</th>\n",
       "    <th>1.1429</th>\n",
       "    <th>8.824531</th>\n",
       "  </tr>\n",
       "  <tr>\n",
       "    <th>b</th>\n",
       "    <th>Rain</th>\n",
       "    <th>None</th>\n",
       "    <th>NW</th>\n",
       "    <th>0</th>\n",
       "    <th>b</th>\n",
       "    <th>18</th>\n",
       "    <th>5</th>\n",
       "    <th>False</th>\n",
       "    <th>False</th>\n",
       "    <th>False</th>\n",
       "    <th>False</th>\n",
       "    <th>False</th>\n",
       "    <th>False</th>\n",
       "    <th>1</th>\n",
       "    <th>3</th>\n",
       "    <th>2014</th>\n",
       "    <th>-0.4785</th>\n",
       "    <th>0.6240</th>\n",
       "    <th>0.0084</th>\n",
       "    <th>2.1368</th>\n",
       "    <th>-1.9211</th>\n",
       "    <th>-0.8033</th>\n",
       "    <th>-0.3089</th>\n",
       "    <th>1.0660</th>\n",
       "    <th>-0.5947</th>\n",
       "    <th>-0.3938</th>\n",
       "    <th>-0.4509</th>\n",
       "    <th>-0.3160</th>\n",
       "    <th>-1.9636</th>\n",
       "    <th>6.1506</th>\n",
       "    <th>-0.9677</th>\n",
       "    <th>-0.8380</th>\n",
       "    <th>0.5267</th>\n",
       "    <th>-1.5942</th>\n",
       "    <th>-0.4972</th>\n",
       "    <th>-0.8994</th>\n",
       "    <th>-0.1935</th>\n",
       "    <th>-2.3026</th>\n",
       "    <th>1.0155</th>\n",
       "    <th>1.0848</th>\n",
       "    <th>-1.4320</th>\n",
       "    <th>0.0256</th>\n",
       "    <th>-0.1046</th>\n",
       "    <th>-0.5598</th>\n",
       "    <th>-1.3695</th>\n",
       "    <th>0.6415</th>\n",
       "    <th>0.0000</th>\n",
       "    <th>-0.0826</th>\n",
       "    <th>-1.6937</th>\n",
       "    <th>-0.2237</th>\n",
       "    <th>-0.0432</th>\n",
       "    <th>1.4372</th>\n",
       "    <th>-1.1460</th>\n",
       "    <th>9.528067</th>\n",
       "  </tr>\n",
       "  <tr>\n",
       "    <th>c</th>\n",
       "    <th>Rain</th>\n",
       "    <th>Jan,Apr,Jul,Oct</th>\n",
       "    <th>HE</th>\n",
       "    <th>0</th>\n",
       "    <th>a</th>\n",
       "    <th>12</th>\n",
       "    <th>2</th>\n",
       "    <th>False</th>\n",
       "    <th>False</th>\n",
       "    <th>False</th>\n",
       "    <th>False</th>\n",
       "    <th>False</th>\n",
       "    <th>False</th>\n",
       "    <th>2</th>\n",
       "    <th>7</th>\n",
       "    <th>2014</th>\n",
       "    <th>-0.4785</th>\n",
       "    <th>0.2881</th>\n",
       "    <th>-1.0334</th>\n",
       "    <th>-1.1736</th>\n",
       "    <th>-0.8098</th>\n",
       "    <th>-0.8033</th>\n",
       "    <th>0.1140</th>\n",
       "    <th>0.0054</th>\n",
       "    <th>-0.7635</th>\n",
       "    <th>-0.3938</th>\n",
       "    <th>-0.6914</th>\n",
       "    <th>0.1423</th>\n",
       "    <th>-0.0321</th>\n",
       "    <th>-0.6518</th>\n",
       "    <th>1.0334</th>\n",
       "    <th>-0.1442</th>\n",
       "    <th>0.4246</th>\n",
       "    <th>-1.1473</th>\n",
       "    <th>-0.6651</th>\n",
       "    <th>-0.8994</th>\n",
       "    <th>-0.0963</th>\n",
       "    <th>0.8369</th>\n",
       "    <th>-0.2595</th>\n",
       "    <th>0.2536</th>\n",
       "    <th>-0.9993</th>\n",
       "    <th>1.1100</th>\n",
       "    <th>-0.3588</th>\n",
       "    <th>-0.5636</th>\n",
       "    <th>-1.1299</th>\n",
       "    <th>0.6415</th>\n",
       "    <th>0.0000</th>\n",
       "    <th>-0.5540</th>\n",
       "    <th>-0.8640</th>\n",
       "    <th>-0.5047</th>\n",
       "    <th>0.3134</th>\n",
       "    <th>-0.3021</th>\n",
       "    <th>-0.0970</th>\n",
       "    <th>8.139149</th>\n",
       "  </tr>\n",
       "</table>\n"
      ],
      "text/plain": [
       "<IPython.core.display.HTML object>"
      ]
     },
     "metadata": {},
     "output_type": "display_data"
    }
   ],
   "source": [
    "# Import train_valid_data and test_data dataframes\n",
    "train_valid_df_raw = pd.read_csv(DATA_PATH/'train_valid_data.csv', low_memory=False)\n",
    "train_valid_df = train_valid_df_raw.copy()\n",
    "\n",
    "train_valid_df.sort_values('date')\n",
    "\n",
    "# Drop week_start as that will get taken into account by add_datepart() for date\n",
    "train_valid_df.drop('week_start', axis='columns', inplace=True)\n",
    "\n",
    "# Drop any rows where sales = 0 since we don't need to forecast those\n",
    "train_valid_df = train_valid_df[train_valid_df.sales != 0]\n",
    "\n",
    "# Run tabular.add_datepart() on both dfs to add columns about the date: ['Year', 'Month', 'Week', 'Day', 'Dayofweek',\n",
    "# 'Dayofyear', 'Is_month_end', 'Is_month_start', 'Is_quarter_end', 'Is_quarter_start', 'Is_year_end', 'Is_year_start']\n",
    "tabular.add_datepart(train_valid_df, 'date', drop=True, time=False)\n",
    "\n",
    "# Category names, to which we'll apply embeddings\n",
    "cat_names = ['assortment', 'events', 'promo_interval', 'state', 'state_holiday', 'store_type']\n",
    "\n",
    "# Add the date-related categories\n",
    "cat_names += ['Day', 'Dayofweek', 'Is_month_end', 'Is_month_start', 'Is_quarter_end', 'Is_quarter_start', 'Is_year_end',\n",
    "              'Is_year_start', 'Month', 'Week', 'Year',]\n",
    "\n",
    "# Continuous-variable names, which we'll make sure are all represented as floats\n",
    "# Just use set difference to make sure everything is covered\n",
    "cont_names = list(set(train_valid_df.columns) - set(cat_names))\n",
    "\n",
    "# Set up transforms to 1) replace missing values for continuous variables by the median column value, 2) transform all\n",
    "# categorical variables into categories, 3) normalize continuous variables.\n",
    "# Note that FillMissing should do nothing since we shouldn't have any NaNs -- leaving it in anyway\n",
    "procs = [FillMissing, Categorify, Normalize]\n",
    "\n",
    "df = train_valid_df\n",
    "\n",
    "# Validation set is \n",
    "valid_idx = range(int(0.8 * len(df)), len(df))\n",
    "dep_var = 'sales'\n",
    "\n",
    "data = (TabularList.from_df(df, path=path, cat_names=cat_names, cont_names=cont_names, procs=procs)\n",
    "                   .split_by_idx(valid_idx)\n",
    "                   .label_from_df(cols=dep_var, label_cls=FloatList, log=True)\n",
    "                   .databunch())\n",
    "\n",
    "data.show_batch()"
   ]
  },
  {
   "cell_type": "code",
   "execution_count": 4,
   "metadata": {},
   "outputs": [
    {
     "name": "stdout",
     "output_type": "stream",
     "text": [
      "LR Finder is complete, type {learner_name}.recorder.plot() to see the graph.\n"
     ]
    },
    {
     "data": {
      "image/png": "[encoded data removed]",
      "text/plain": [
       "<Figure size 432x288 with 1 Axes>"
      ]
     },
     "metadata": {
      "needs_background": "light"
     },
     "output_type": "display_data"
    }
   ],
   "source": [
    "max_y = np.max(df['sales'])\n",
    "y_range = torch.tensor([0, np.log(max_y*1.2)], device=defaults.device)\n",
    "#learn = tabular_learner(data, layers=[100,100], ps=[0.001, 0.01], emb_drop=0.01, metrics=exp_rmspe, y_range=y_range,\n",
    "learn = tabular_learner(data, layers=[100,100], ps=[0.001, 0.01], emb_drop=0.01, metrics=exp_rmspe, y_range=None,\n",
    "                        callback_fns=[partial(callbacks.tracker.TrackerCallback, monitor='exp_rmspe'),\n",
    "                                      partial(callbacks.tracker.EarlyStoppingCallback, mode='min',\n",
    "                                              monitor='exp_rmspe', min_delta=0.01, patience=1),\n",
    "                                      partial(callbacks.tracker.SaveModelCallback, monitor='exp_rmspe', mode='min',\n",
    "                                              every='improvement',\n",
    "                                              name=datetime.now().strftime(\"%Y-%m-%d-%X\"))])\n",
    "\n",
    "learn.lr_find()\n",
    "learn.recorder.plot()"
   ]
  },
  {
   "cell_type": "code",
   "execution_count": 6,
   "metadata": {},
   "outputs": [
    {
     "data": {
      "text/html": [
       "\n",
       "    <div>\n",
       "        <style>\n",
       "            /* Turns off some styling */\n",
       "            progress {\n",
       "                /* gets rid of default border in Firefox and Opera. */\n",
       "                border: none;\n",
       "                /* Needs to be in here for Safari polyfill so background images work as expected. */\n",
       "                background-size: auto;\n",
       "            }\n",
       "            .progress-bar-interrupted, .progress-bar-interrupted::-webkit-progress-bar {\n",
       "                background: #F44336;\n",
       "            }\n",
       "        </style>\n",
       "      <progress value='2' class='' max='10', style='width:300px; height:20px; vertical-align: middle;'></progress>\n",
       "      20.00% [2/10 02:56<11:45]\n",
       "    </div>\n",
       "    \n",
       "<table style='width:300px; margin-bottom:10px'>\n",
       "  <tr>\n",
       "    <th>epoch</th>\n",
       "    <th>train_loss</th>\n",
       "    <th>valid_loss</th>\n",
       "    <th>exp_rmspe</th>\n",
       "  </tr>\n",
       "  <tr>\n",
       "    <th>1</th>\n",
       "    <th>0.013776</th>\n",
       "    <th>0.001579</th>\n",
       "    <th>0.035613</th>\n",
       "  </tr>\n",
       "  <tr>\n",
       "    <th>2</th>\n",
       "    <th>0.014646</th>\n",
       "    <th>0.001341</th>\n",
       "    <th>0.029947</th>\n",
       "  </tr>\n",
       "</table>\n",
       "\n",
       "\n",
       "    <div>\n",
       "        <style>\n",
       "            /* Turns off some styling */\n",
       "            progress {\n",
       "                /* gets rid of default border in Firefox and Opera. */\n",
       "                border: none;\n",
       "                /* Needs to be in here for Safari polyfill so background images work as expected. */\n",
       "                background-size: auto;\n",
       "            }\n",
       "            .progress-bar-interrupted, .progress-bar-interrupted::-webkit-progress-bar {\n",
       "                background: #F44336;\n",
       "            }\n",
       "        </style>\n",
       "      <progress value='2513' class='' max='2513', style='width:300px; height:20px; vertical-align: middle;'></progress>\n",
       "      100.00% [2513/2513 00:07<00:00]\n",
       "    </div>\n",
       "    "
      ],
      "text/plain": [
       "<IPython.core.display.HTML object>"
      ]
     },
     "metadata": {},
     "output_type": "display_data"
    },
    {
     "name": "stdout",
     "output_type": "stream",
     "text": [
      "Epoch 3: early stopping\n"
     ]
    }
   ],
   "source": [
    "import random\n",
    "random.seed(42)\n",
    "learn.fit_one_cycle(cyc_len=10, max_lr=1e-3)"
   ]
  },
  {
   "cell_type": "code",
   "execution_count": 7,
   "metadata": {},
   "outputs": [
    {
     "data": {
      "text/plain": [
       "[<matplotlib.lines.Line2D at 0x7f582762fa20>]"
      ]
     },
     "execution_count": 7,
     "metadata": {},
     "output_type": "execute_result"
    },
    {
     "data": {
      "image/png": "[encoded data removed]",
      "text/plain": [
       "<Figure size 432x288 with 1 Axes>"
      ]
     },
     "metadata": {
      "needs_background": "light"
     },
     "output_type": "display_data"
    }
   ],
   "source": [
    "train_log_preds, train_log_reals = learn.get_preds(ds_type=DatasetType.Train)\n",
    "train_preds = np.exp(train_log_preds).flatten()\n",
    "train_reals = np.exp(train_log_reals)\n",
    "train_sub = pd.DataFrame({'Predicted': train_preds, 'Actual': train_reals})\n",
    "fig, ax = plt.subplots()\n",
    "ax.scatter(train_sub.Predicted, train_sub.Actual)\n",
    "ax.plot(np.linspace(0,40000,5000), np.linspace(0,40000,5000), color='black')"
   ]
  },
  {
   "cell_type": "code",
   "execution_count": 10,
   "metadata": {},
   "outputs": [
    {
     "data": {
      "text/plain": [
       "0.030267978225560738"
      ]
     },
     "execution_count": 10,
     "metadata": {},
     "output_type": "execute_result"
    }
   ],
   "source": [
    "def rmspe(predicted, actual):\n",
    "    return np.sqrt((((actual - predicted)/actual)**2).sum()/len(actual))\n",
    "\n",
    "rmspe(train_sub.Predicted.values, train_sub.Actual.values)"
   ]
  },
  {
   "cell_type": "code",
   "execution_count": 8,
   "metadata": {},
   "outputs": [
    {
     "data": {
      "text/plain": [
       "[<matplotlib.lines.Line2D at 0x7f58276417b8>]"
      ]
     },
     "execution_count": 8,
     "metadata": {},
     "output_type": "execute_result"
    },
    {
     "data": {
      "image/png": "[encoded data removed]",
      "text/plain": [
       "<Figure size 432x288 with 1 Axes>"
      ]
     },
     "metadata": {
      "needs_background": "light"
     },
     "output_type": "display_data"
    }
   ],
   "source": [
    "log_preds, log_reals = learn.get_preds(ds_type=DatasetType.Valid)\n",
    "preds = np.exp(log_preds).flatten()\n",
    "reals = np.exp(log_reals)\n",
    "sub = pd.DataFrame({'Predicted': preds, 'Actual': reals})\n",
    "fig, ax = plt.subplots()\n",
    "ax.scatter(sub.Predicted, sub.Actual)\n",
    "ax.plot(np.linspace(0,40000,5000), np.linspace(0,40000,5000), color='black')"
   ]
  },
  {
   "cell_type": "code",
   "execution_count": 9,
   "metadata": {},
   "outputs": [
    {
     "data": {
      "text/plain": [
       "0.032206698659979445"
      ]
     },
     "execution_count": 9,
     "metadata": {},
     "output_type": "execute_result"
    }
   ],
   "source": [
    "rmspe(sub.Predicted.values, sub.Actual.values)"
   ]
  },
  {
   "cell_type": "code",
   "execution_count": 8,
   "metadata": {},
   "outputs": [
    {
     "data": {
      "text/plain": [
       "PosixPath('../../models')"
      ]
     },
     "execution_count": 8,
     "metadata": {},
     "output_type": "execute_result"
    }
   ],
   "source": [
    "learn.path"
   ]
  },
  {
   "cell_type": "code",
   "execution_count": 11,
   "metadata": {},
   "outputs": [],
   "source": [
    "learn.save('ghosting_left_high_end0.0322')\n",
    "learn.export()"
   ]
  },
  {
   "cell_type": "code",
   "execution_count": 12,
   "metadata": {},
   "outputs": [],
   "source": [
    "# Import test_data dataframe and prep for use\n",
    "test_df_raw = pd.read_csv(DATA_PATH/'test_data.csv', low_memory=False)\n",
    "test_df = test_df_raw.copy()\n",
    "\n",
    "# Drop week_start as that will get taken into account by add_datepart() for date\n",
    "test_df.drop('week_start', axis='columns', inplace=True)\n",
    "\n",
    "# Drop any rows where sales = 0 since we don't need to forecast those\n",
    "test_df = test_df[test_df.sales != 0]\n",
    "\n",
    "# Run tabular.add_datepart() on both dfs to add columns about the date: ['Year', 'Month', 'Week', 'Day', 'Dayofweek',\n",
    "# 'Dayofyear', 'Is_month_end', 'Is_month_start', 'Is_quarter_end', 'Is_quarter_start', 'Is_year_end', 'Is_year_start']\n",
    "tabular.add_datepart(test_df, 'date', drop=True, time=False)\n",
    "\n",
    "# Category names, to which we'll apply embeddings\n",
    "cat_names = ['assortment', 'events', 'promo_interval', 'state', 'state_holiday', 'store_type']\n",
    "\n",
    "# Add the date-related categories\n",
    "cat_names += ['Day', 'Dayofweek', 'Is_month_end', 'Is_month_start', 'Is_quarter_end', 'Is_quarter_start', 'Is_year_end',\n",
    "              'Is_year_start', 'Month', 'Week', 'Year',]\n",
    "\n",
    "# Continuous-variable names, which we'll make sure are all represented as floats\n",
    "# Just use set difference to make sure everything is covered\n",
    "cont_names = list(set(train_valid_df.columns) - set(cat_names))\n",
    "\n",
    "# Set up transforms to 1) replace missing values for continuous variables by the median column value, 2) transform all\n",
    "# categorical variables into categories, 3) normalize continuous variables.\n",
    "# Note that FillMissing should do nothing since we shouldn't have any NaNs -- leaving it in anyway\n",
    "procs = [FillMissing, Categorify, Normalize]"
   ]
  },
  {
   "cell_type": "code",
   "execution_count": 13,
   "metadata": {},
   "outputs": [],
   "source": [
    "learn = load_learner('../../models',\n",
    "                      test=TabularList.from_df(test_df, path=path))\n",
    "                      #.no_split()\n",
    "                      #.label_from_df(cols=dep_var, label_cls=FloatList, log=True))"
   ]
  },
  {
   "cell_type": "code",
   "execution_count": 14,
   "metadata": {},
   "outputs": [
    {
     "data": {
      "text/plain": [
       "[<matplotlib.lines.Line2D at 0x7f5820786128>]"
      ]
     },
     "execution_count": 14,
     "metadata": {},
     "output_type": "execute_result"
    },
    {
     "data": {
      "image/png": "[encoded data removed]",
      "text/plain": [
       "<Figure size 432x288 with 1 Axes>"
      ]
     },
     "metadata": {
      "needs_background": "light"
     },
     "output_type": "display_data"
    }
   ],
   "source": [
    "log_test_preds, log_test_reals = learn.get_preds(ds_type=DatasetType.Test)\n",
    "test_preds = np.exp(log_test_preds).flatten()\n",
    "#test_reals = np.exp(log_test_reals)\n",
    "test_reals = test_df_raw.loc[test_df_raw.sales != 0, 'sales'].values\n",
    "test_sub = pd.DataFrame({'Predicted': test_preds, 'Actual': test_reals})\n",
    "fig, ax = plt.subplots()\n",
    "ax.scatter(test_sub.Predicted, test_sub.Actual)\n",
    "ax.plot(np.linspace(0,40000,5000), np.linspace(0,40000,5000), color='black')"
   ]
  },
  {
   "cell_type": "code",
   "execution_count": 15,
   "metadata": {},
   "outputs": [
    {
     "data": {
      "text/plain": [
       "0.048635791657389196"
      ]
     },
     "execution_count": 15,
     "metadata": {},
     "output_type": "execute_result"
    }
   ],
   "source": [
    "rmspe(test_sub.Predicted.values, test_sub.Actual.values)"
   ]
  },
  {
   "cell_type": "code",
   "execution_count": 19,
   "metadata": {},
   "outputs": [
    {
     "data": {
      "text/plain": [
       "<matplotlib.collections.PathCollection at 0x7f58275a9438>"
      ]
     },
     "execution_count": 19,
     "metadata": {},
     "output_type": "execute_result"
    },
    {
     "data": {
      "image/png": "[encoded data removed]",
      "text/plain": [
       "<Figure size 432x288 with 1 Axes>"
      ]
     },
     "metadata": {
      "needs_background": "light"
     },
     "output_type": "display_data"
    }
   ],
   "source": [
    "wrongs = test_sub[np.abs((test_sub.Predicted - test_sub.Actual) / test_sub.Actual) > 0.1]\n",
    "#len(wrongs)/len(test_sub) # 0.0205\n",
    "#len(wrongs) # 827\n",
    "#plt.scatter(wrongs.Predicted, wrongs.Actual)"
   ]
  },
  {
   "cell_type": "code",
   "execution_count": 26,
   "metadata": {},
   "outputs": [
    {
     "data": {
      "text/plain": [
       "22"
      ]
     },
     "execution_count": 26,
     "metadata": {},
     "output_type": "execute_result"
    }
   ],
   "source": [
    "wrong_and_big = test_sub[(np.abs((test_sub.Predicted - test_sub.Actual) / test_sub.Actual) > 0.1) &\n",
    "                         (test_sub.Actual > 10000)]\n",
    "len(wrong_and_big) # 22\n",
    "#plt.scatter(wrong_and_big.Predicted, wrong_and_big.Actual)"
   ]
  },
  {
   "cell_type": "code",
   "execution_count": 23,
   "metadata": {},
   "outputs": [
    {
     "data": {
      "text/plain": [
       "<matplotlib.collections.PathCollection at 0x7f5820520cc0>"
      ]
     },
     "execution_count": 23,
     "metadata": {},
     "output_type": "execute_result"
    },
    {
     "data": {
      "image/png": "[encoded data removed]",
      "text/plain": [
       "<Figure size 432x288 with 1 Axes>"
      ]
     },
     "metadata": {
      "needs_background": "light"
     },
     "output_type": "display_data"
    }
   ],
   "source": [
    "close = test_sub[np.abs((test_sub.Predicted - test_sub.Actual) / test_sub.Actual) < 0.01]\n",
    "len(close)/len(test_sub) # 0.1657564172583288\n",
    "len(close) # 6677\n",
    "plt.scatter(close.Predicted, close.Actual)"
   ]
  },
  {
   "cell_type": "code",
   "execution_count": 27,
   "metadata": {},
   "outputs": [
    {
     "data": {
      "text/html": [
       "<div>\n",
       "<style scoped>\n",
       "    .dataframe tbody tr th:only-of-type {\n",
       "        vertical-align: middle;\n",
       "    }\n",
       "\n",
       "    .dataframe tbody tr th {\n",
       "        vertical-align: top;\n",
       "    }\n",
       "\n",
       "    .dataframe thead th {\n",
       "        text-align: right;\n",
       "    }\n",
       "</style>\n",
       "<table border=\"1\" class=\"dataframe\">\n",
       "  <thead>\n",
       "    <tr style=\"text-align: right;\">\n",
       "      <th></th>\n",
       "      <th>Predicted</th>\n",
       "      <th>Actual</th>\n",
       "    </tr>\n",
       "  </thead>\n",
       "  <tbody>\n",
       "    <tr>\n",
       "      <th>0</th>\n",
       "      <td>4118.318359</td>\n",
       "      <td>4097.0</td>\n",
       "    </tr>\n",
       "    <tr>\n",
       "      <th>1</th>\n",
       "      <td>9157.336914</td>\n",
       "      <td>9351.0</td>\n",
       "    </tr>\n",
       "    <tr>\n",
       "      <th>2</th>\n",
       "      <td>6951.813965</td>\n",
       "      <td>6895.0</td>\n",
       "    </tr>\n",
       "    <tr>\n",
       "      <th>3</th>\n",
       "      <td>7528.446777</td>\n",
       "      <td>7656.0</td>\n",
       "    </tr>\n",
       "    <tr>\n",
       "      <th>4</th>\n",
       "      <td>5961.463867</td>\n",
       "      <td>6039.0</td>\n",
       "    </tr>\n",
       "    <tr>\n",
       "      <th>5</th>\n",
       "      <td>5058.627930</td>\n",
       "      <td>5135.0</td>\n",
       "    </tr>\n",
       "    <tr>\n",
       "      <th>6</th>\n",
       "      <td>7446.750488</td>\n",
       "      <td>7604.0</td>\n",
       "    </tr>\n",
       "    <tr>\n",
       "      <th>7</th>\n",
       "      <td>4303.449707</td>\n",
       "      <td>4318.0</td>\n",
       "    </tr>\n",
       "    <tr>\n",
       "      <th>8</th>\n",
       "      <td>5646.305664</td>\n",
       "      <td>5823.0</td>\n",
       "    </tr>\n",
       "    <tr>\n",
       "      <th>9</th>\n",
       "      <td>6030.148438</td>\n",
       "      <td>6125.0</td>\n",
       "    </tr>\n",
       "    <tr>\n",
       "      <th>10</th>\n",
       "      <td>8006.938965</td>\n",
       "      <td>8127.0</td>\n",
       "    </tr>\n",
       "    <tr>\n",
       "      <th>11</th>\n",
       "      <td>4910.524414</td>\n",
       "      <td>4872.0</td>\n",
       "    </tr>\n",
       "    <tr>\n",
       "      <th>12</th>\n",
       "      <td>6247.340332</td>\n",
       "      <td>6380.0</td>\n",
       "    </tr>\n",
       "    <tr>\n",
       "      <th>13</th>\n",
       "      <td>5799.131348</td>\n",
       "      <td>5935.0</td>\n",
       "    </tr>\n",
       "    <tr>\n",
       "      <th>14</th>\n",
       "      <td>6461.931641</td>\n",
       "      <td>6557.0</td>\n",
       "    </tr>\n",
       "  </tbody>\n",
       "</table>\n",
       "</div>"
      ],
      "text/plain": [
       "      Predicted  Actual\n",
       "0   4118.318359  4097.0\n",
       "1   9157.336914  9351.0\n",
       "2   6951.813965  6895.0\n",
       "3   7528.446777  7656.0\n",
       "4   5961.463867  6039.0\n",
       "5   5058.627930  5135.0\n",
       "6   7446.750488  7604.0\n",
       "7   4303.449707  4318.0\n",
       "8   5646.305664  5823.0\n",
       "9   6030.148438  6125.0\n",
       "10  8006.938965  8127.0\n",
       "11  4910.524414  4872.0\n",
       "12  6247.340332  6380.0\n",
       "13  5799.131348  5935.0\n",
       "14  6461.931641  6557.0"
      ]
     },
     "execution_count": 27,
     "metadata": {},
     "output_type": "execute_result"
    }
   ],
   "source": [
    "test_sub.head(15)"
   ]
  }
 ],
 "metadata": {
  "kernelspec": {
   "display_name": "Python 3",
   "language": "python",
   "name": "python3"
  },
  "language_info": {
   "codemirror_mode": {
    "name": "ipython",
    "version": 3
   },
   "file_extension": ".py",
   "mimetype": "text/x-python",
   "name": "python",
   "nbconvert_exporter": "python",
   "pygments_lexer": "ipython3",
   "version": "3.7.1"
  }
 },
 "nbformat": 4,
 "nbformat_minor": 2
}
