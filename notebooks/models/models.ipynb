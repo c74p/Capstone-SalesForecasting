{
 "cells": [
  {
   "cell_type": "code",
   "execution_count": 1,
   "metadata": {},
   "outputs": [],
   "source": [
    "import contextlib\n",
    "from datetime import datetime\n",
    "from fastai import *\n",
    "from fastai.tabular import *\n",
    "import io\n",
    "import pandas as pd\n",
    "from pathlib import Path\n",
    "import random"
   ]
  },
  {
   "cell_type": "code",
   "execution_count": 2,
   "metadata": {},
   "outputs": [],
   "source": [
    "DATA_PATH = Path('../../data/interim')\n",
    "path = Path('../../models/')"
   ]
  },
  {
   "cell_type": "code",
   "execution_count": 3,
   "metadata": {},
   "outputs": [
    {
     "data": {
      "text/html": [
       "<table>  <col width='10%'>  <col width='10%'>  <col width='10%'>  <col width='10%'>  <col width='10%'>  <col width='10%'>  <col width='10%'>  <col width='10%'>  <col width='10%'>  <col width='10%'>  <col width='10%'>  <col width='10%'>  <col width='10%'>  <col width='10%'>  <col width='10%'>  <col width='10%'>  <col width='10%'>  <col width='10%'>  <col width='10%'>  <col width='10%'>  <col width='10%'>  <col width='10%'>  <col width='10%'>  <col width='10%'>  <col width='10%'>  <col width='10%'>  <col width='10%'>  <col width='10%'>  <col width='10%'>  <col width='10%'>  <col width='10%'>  <col width='10%'>  <col width='10%'>  <col width='10%'>  <col width='10%'>  <col width='10%'>  <col width='10%'>  <col width='10%'>  <col width='10%'>  <col width='10%'>  <col width='10%'>  <col width='10%'>  <col width='10%'>  <col width='10%'>  <col width='10%'>  <col width='10%'>  <col width='10%'>  <col width='10%'>  <col width='10%'>  <col width='10%'>  <col width='10%'>  <col width='10%'>  <col width='10%'>  <col width='10%'>  <col width='10%'>  <tr>\n",
       "    <th>assortment</th>\n",
       "    <th>events</th>\n",
       "    <th>promo_interval</th>\n",
       "    <th>state</th>\n",
       "    <th>state_holiday</th>\n",
       "    <th>store_type</th>\n",
       "    <th>Day</th>\n",
       "    <th>Dayofweek</th>\n",
       "    <th>Is_month_end</th>\n",
       "    <th>Is_month_start</th>\n",
       "    <th>Is_quarter_end</th>\n",
       "    <th>Is_quarter_start</th>\n",
       "    <th>Is_year_end</th>\n",
       "    <th>Is_year_start</th>\n",
       "    <th>Month</th>\n",
       "    <th>Week</th>\n",
       "    <th>Year</th>\n",
       "    <th>max_wind_speed_km_h</th>\n",
       "    <th>max_humidity</th>\n",
       "    <th>min_humidity</th>\n",
       "    <th>min_sea_level_pressureh_pa</th>\n",
       "    <th>precipitationmm</th>\n",
       "    <th>max_gust_speed_km_h</th>\n",
       "    <th>max_temperature_c</th>\n",
       "    <th>day_of_week</th>\n",
       "    <th>sales</th>\n",
       "    <th>max_visibility_km</th>\n",
       "    <th>competition_distance</th>\n",
       "    <th>dew_point_c</th>\n",
       "    <th>wind_dir_degrees</th>\n",
       "    <th>competition_open_since_month</th>\n",
       "    <th>promo</th>\n",
       "    <th>Elapsed</th>\n",
       "    <th>mean_humidity</th>\n",
       "    <th>min_temperature_c</th>\n",
       "    <th>Dayofyear</th>\n",
       "    <th>min_dew_point_c</th>\n",
       "    <th>max_sea_level_pressureh_pa</th>\n",
       "    <th>mean_temperature_c</th>\n",
       "    <th>mean_visibility_km</th>\n",
       "    <th>mean_dew_point_c</th>\n",
       "    <th>trend</th>\n",
       "    <th>mean_wind_speed_km_h</th>\n",
       "    <th>promo2</th>\n",
       "    <th>cloud_cover</th>\n",
       "    <th>min_visibility_km</th>\n",
       "    <th>open</th>\n",
       "    <th>promo2_since_week</th>\n",
       "    <th>customers</th>\n",
       "    <th>school_holiday</th>\n",
       "    <th>mean_sea_level_pressureh_pa</th>\n",
       "    <th>competition_open_since_year</th>\n",
       "    <th>store</th>\n",
       "    <th>promo2_since_year</th>\n",
       "    <th>target</th>\n",
       "  </tr>\n",
       "  <tr>\n",
       "    <th>a</th>\n",
       "    <th>Rain</th>\n",
       "    <th>None</th>\n",
       "    <th>BE</th>\n",
       "    <th>0</th>\n",
       "    <th>c</th>\n",
       "    <th>29</th>\n",
       "    <th>5</th>\n",
       "    <th>False</th>\n",
       "    <th>False</th>\n",
       "    <th>False</th>\n",
       "    <th>False</th>\n",
       "    <th>False</th>\n",
       "    <th>False</th>\n",
       "    <th>6</th>\n",
       "    <th>26</th>\n",
       "    <th>2013</th>\n",
       "    <th>0.4000</th>\n",
       "    <th>0.0520</th>\n",
       "    <th>0.1497</th>\n",
       "    <th>0.0818</th>\n",
       "    <th>0.5326</th>\n",
       "    <th>-0.5781</th>\n",
       "    <th>0.7515</th>\n",
       "    <th>1.4372</th>\n",
       "    <th>-0.5234</th>\n",
       "    <th>0.8396</th>\n",
       "    <th>-0.1511</th>\n",
       "    <th>1.0070</th>\n",
       "    <th>0.5047</th>\n",
       "    <th>-1.9911</th>\n",
       "    <th>-0.8994</th>\n",
       "    <th>-0.9831</th>\n",
       "    <th>0.0871</th>\n",
       "    <th>1.0173</th>\n",
       "    <th>0.1829</th>\n",
       "    <th>1.0138</th>\n",
       "    <th>0.0545</th>\n",
       "    <th>1.0410</th>\n",
       "    <th>0.9258</th>\n",
       "    <th>1.0929</th>\n",
       "    <th>0.5707</th>\n",
       "    <th>-0.2451</th>\n",
       "    <th>-0.9677</th>\n",
       "    <th>0.3780</th>\n",
       "    <th>0.6415</th>\n",
       "    <th>0.0000</th>\n",
       "    <th>-0.0432</th>\n",
       "    <th>-0.6063</th>\n",
       "    <th>-0.4785</th>\n",
       "    <th>-0.0343</th>\n",
       "    <th>1.2327</th>\n",
       "    <th>1.6155</th>\n",
       "    <th>0.0256</th>\n",
       "    <th>8.603738</th>\n",
       "  </tr>\n",
       "  <tr>\n",
       "    <th>a</th>\n",
       "    <th>No Events</th>\n",
       "    <th>Mar,Jun,Sept,Dec</th>\n",
       "    <th>NW</th>\n",
       "    <th>0</th>\n",
       "    <th>d</th>\n",
       "    <th>30</th>\n",
       "    <th>0</th>\n",
       "    <th>True</th>\n",
       "    <th>False</th>\n",
       "    <th>True</th>\n",
       "    <th>False</th>\n",
       "    <th>False</th>\n",
       "    <th>False</th>\n",
       "    <th>9</th>\n",
       "    <th>40</th>\n",
       "    <th>2013</th>\n",
       "    <th>-0.0478</th>\n",
       "    <th>-0.8637</th>\n",
       "    <th>-0.6130</th>\n",
       "    <th>-0.4769</th>\n",
       "    <th>-0.3089</th>\n",
       "    <th>0.0084</th>\n",
       "    <th>0.5110</th>\n",
       "    <th>-1.4616</th>\n",
       "    <th>-1.0366</th>\n",
       "    <th>0.8396</th>\n",
       "    <th>1.9412</th>\n",
       "    <th>0.0196</th>\n",
       "    <th>-1.3819</th>\n",
       "    <th>0.0054</th>\n",
       "    <th>-0.8994</th>\n",
       "    <th>-0.6214</th>\n",
       "    <th>-0.6068</th>\n",
       "    <th>-0.0826</th>\n",
       "    <th>1.0742</th>\n",
       "    <th>0.1744</th>\n",
       "    <th>-0.9333</th>\n",
       "    <th>0.1979</th>\n",
       "    <th>0.4859</th>\n",
       "    <th>0.0803</th>\n",
       "    <th>-1.0507</th>\n",
       "    <th>-0.4113</th>\n",
       "    <th>1.0334</th>\n",
       "    <th>-1.5344</th>\n",
       "    <th>0.6415</th>\n",
       "    <th>0.0000</th>\n",
       "    <th>-0.6292</th>\n",
       "    <th>-1.0132</th>\n",
       "    <th>-0.4785</th>\n",
       "    <th>-0.6269</th>\n",
       "    <th>-0.0321</th>\n",
       "    <th>-1.1189</th>\n",
       "    <th>1.9870</th>\n",
       "    <th>8.256607</th>\n",
       "  </tr>\n",
       "  <tr>\n",
       "    <th>c</th>\n",
       "    <th>No Events</th>\n",
       "    <th>Jan,Apr,Jul,Oct</th>\n",
       "    <th>NW</th>\n",
       "    <th>0</th>\n",
       "    <th>d</th>\n",
       "    <th>22</th>\n",
       "    <th>2</th>\n",
       "    <th>False</th>\n",
       "    <th>False</th>\n",
       "    <th>False</th>\n",
       "    <th>False</th>\n",
       "    <th>False</th>\n",
       "    <th>False</th>\n",
       "    <th>1</th>\n",
       "    <th>4</th>\n",
       "    <th>2014</th>\n",
       "    <th>-0.4957</th>\n",
       "    <th>-0.0788</th>\n",
       "    <th>0.8107</th>\n",
       "    <th>-0.1417</th>\n",
       "    <th>-0.3089</th>\n",
       "    <th>0.0084</th>\n",
       "    <th>-0.9319</th>\n",
       "    <th>-0.3021</th>\n",
       "    <th>0.0711</th>\n",
       "    <th>-0.0258</th>\n",
       "    <th>0.5193</th>\n",
       "    <th>-0.8033</th>\n",
       "    <th>-0.1242</th>\n",
       "    <th>-1.2269</th>\n",
       "    <th>1.1118</th>\n",
       "    <th>-0.1780</th>\n",
       "    <th>0.4725</th>\n",
       "    <th>-0.7111</th>\n",
       "    <th>-1.3312</th>\n",
       "    <th>-0.6651</th>\n",
       "    <th>-0.4394</th>\n",
       "    <th>-0.9262</th>\n",
       "    <th>-0.3938</th>\n",
       "    <th>-0.7635</th>\n",
       "    <th>0.2845</th>\n",
       "    <th>-0.4113</th>\n",
       "    <th>1.0334</th>\n",
       "    <th>0.3780</th>\n",
       "    <th>-0.2427</th>\n",
       "    <th>0.0000</th>\n",
       "    <th>1.3606</th>\n",
       "    <th>-0.4951</th>\n",
       "    <th>-0.4785</th>\n",
       "    <th>-0.2714</th>\n",
       "    <th>-0.9648</th>\n",
       "    <th>0.0287</th>\n",
       "    <th>-2.3981</th>\n",
       "    <th>8.896177</th>\n",
       "  </tr>\n",
       "  <tr>\n",
       "    <th>a</th>\n",
       "    <th>Rain</th>\n",
       "    <th>None</th>\n",
       "    <th>SN</th>\n",
       "    <th>0</th>\n",
       "    <th>d</th>\n",
       "    <th>2</th>\n",
       "    <th>0</th>\n",
       "    <th>False</th>\n",
       "    <th>False</th>\n",
       "    <th>False</th>\n",
       "    <th>False</th>\n",
       "    <th>False</th>\n",
       "    <th>False</th>\n",
       "    <th>9</th>\n",
       "    <th>36</th>\n",
       "    <th>2013</th>\n",
       "    <th>0.6240</th>\n",
       "    <th>0.0520</th>\n",
       "    <th>0.0480</th>\n",
       "    <th>0.6404</th>\n",
       "    <th>0.1140</th>\n",
       "    <th>-0.5781</th>\n",
       "    <th>0.2705</th>\n",
       "    <th>-1.4616</th>\n",
       "    <th>-0.9936</th>\n",
       "    <th>0.8396</th>\n",
       "    <th>0.7990</th>\n",
       "    <th>1.0070</th>\n",
       "    <th>0.8138</th>\n",
       "    <th>1.8303</th>\n",
       "    <th>-0.8994</th>\n",
       "    <th>-0.7303</th>\n",
       "    <th>0.0100</th>\n",
       "    <th>1.0173</th>\n",
       "    <th>0.8058</th>\n",
       "    <th>0.5102</th>\n",
       "    <th>0.5485</th>\n",
       "    <th>0.4789</th>\n",
       "    <th>-0.3938</th>\n",
       "    <th>0.5866</th>\n",
       "    <th>-0.3831</th>\n",
       "    <th>0.9185</th>\n",
       "    <th>-0.9677</th>\n",
       "    <th>1.0155</th>\n",
       "    <th>-0.9059</th>\n",
       "    <th>0.0000</th>\n",
       "    <th>-0.0432</th>\n",
       "    <th>-0.8717</th>\n",
       "    <th>-0.4785</th>\n",
       "    <th>0.5583</th>\n",
       "    <th>-0.7650</th>\n",
       "    <th>-0.3703</th>\n",
       "    <th>0.0256</th>\n",
       "    <th>8.290794</th>\n",
       "  </tr>\n",
       "  <tr>\n",
       "    <th>c</th>\n",
       "    <th>Rain</th>\n",
       "    <th>Jan,Apr,Jul,Oct</th>\n",
       "    <th>NW</th>\n",
       "    <th>0</th>\n",
       "    <th>d</th>\n",
       "    <th>26</th>\n",
       "    <th>3</th>\n",
       "    <th>False</th>\n",
       "    <th>False</th>\n",
       "    <th>False</th>\n",
       "    <th>False</th>\n",
       "    <th>False</th>\n",
       "    <th>False</th>\n",
       "    <th>2</th>\n",
       "    <th>9</th>\n",
       "    <th>2015</th>\n",
       "    <th>0.9599</th>\n",
       "    <th>0.8369</th>\n",
       "    <th>0.3531</th>\n",
       "    <th>-0.4769</th>\n",
       "    <th>-0.3089</th>\n",
       "    <th>-0.1228</th>\n",
       "    <th>-0.4509</th>\n",
       "    <th>0.2777</th>\n",
       "    <th>0.0033</th>\n",
       "    <th>0.8396</th>\n",
       "    <th>-0.2800</th>\n",
       "    <th>-0.3096</th>\n",
       "    <th>-0.2201</th>\n",
       "    <th>0.0054</th>\n",
       "    <th>-0.8994</th>\n",
       "    <th>1.3778</th>\n",
       "    <th>0.5496</th>\n",
       "    <th>-0.5540</th>\n",
       "    <th>-0.9958</th>\n",
       "    <th>-0.1614</th>\n",
       "    <th>0.3015</th>\n",
       "    <th>-0.5047</th>\n",
       "    <th>0.0461</th>\n",
       "    <th>-0.4259</th>\n",
       "    <th>0.3799</th>\n",
       "    <th>0.5861</th>\n",
       "    <th>1.0334</th>\n",
       "    <th>0.3780</th>\n",
       "    <th>-0.9059</th>\n",
       "    <th>0.0000</th>\n",
       "    <th>1.3606</th>\n",
       "    <th>-0.5811</th>\n",
       "    <th>-0.4785</th>\n",
       "    <th>0.0842</th>\n",
       "    <th>-0.0321</th>\n",
       "    <th>0.3968</th>\n",
       "    <th>-2.3981</th>\n",
       "    <th>8.866863</th>\n",
       "  </tr>\n",
       "</table>\n"
      ],
      "text/plain": [
       "<IPython.core.display.HTML object>"
      ]
     },
     "metadata": {},
     "output_type": "display_data"
    }
   ],
   "source": [
    "# Import train_valid_data and test_data dataframes\n",
    "train_valid_df_raw = pd.read_csv(DATA_PATH/'train_valid_data.csv', low_memory=False)\n",
    "train_valid_df = train_valid_df_raw.copy()\n",
    "\n",
    "# Sort by date since we'll want to split by date for train/validation sets\n",
    "train_valid_df.sort_values('date')\n",
    "\n",
    "# Drop week_start as that will get taken into account by add_datepart() for date\n",
    "train_valid_df.drop('week_start', axis='columns', inplace=True)\n",
    "\n",
    "# Drop any rows where sales = 0 since we don't need to forecast those\n",
    "train_valid_df = train_valid_df[train_valid_df.sales != 0]\n",
    "\n",
    "# Run tabular.add_datepart() on both dfs to add columns about the date: ['Year', 'Month', 'Week', 'Day', 'Dayofweek',\n",
    "# 'Dayofyear', 'Is_month_end', 'Is_month_start', 'Is_quarter_end', 'Is_quarter_start', 'Is_year_end', 'Is_year_start']\n",
    "tabular.add_datepart(train_valid_df, 'date', drop=True, time=False)\n",
    "\n",
    "# Category names, to which we'll apply embeddings\n",
    "cat_names = ['assortment', 'events', 'promo_interval', 'state', 'state_holiday', 'store_type']\n",
    "\n",
    "# Add the date-related categories\n",
    "cat_names += ['Day', 'Dayofweek', 'Is_month_end', 'Is_month_start', 'Is_quarter_end', 'Is_quarter_start', 'Is_year_end',\n",
    "              'Is_year_start', 'Month', 'Week', 'Year',]\n",
    "\n",
    "# Continuous-variable names, which we'll make sure are all represented as floats\n",
    "# Just use set difference to make sure everything is covered\n",
    "cont_names = list(set(train_valid_df.columns) - set(cat_names))\n",
    "\n",
    "# Set up transforms to 1) replace missing values for continuous variables by the median column value, 2) transform all\n",
    "# categorical variables into categories, 3) normalize continuous variables.\n",
    "# Note that FillMissing should do nothing since we shouldn't have any NaNs -- leaving it in anyway\n",
    "procs = [FillMissing, Categorify, Normalize]\n",
    "\n",
    "df = train_valid_df\n",
    "\n",
    "# Validation set is just 80% of the whole thing\n",
    "valid_idx = range(int(0.8 * len(df)), len(df))\n",
    "dep_var = 'sales'\n",
    "\n",
    "data = (TabularList.from_df(df, path=path, cat_names=cat_names, cont_names=cont_names, procs=procs)\n",
    "                   .split_by_idx(valid_idx)\n",
    "                   .label_from_df(cols=dep_var, label_cls=FloatList, log=True)\n",
    "                   .databunch())\n",
    "\n",
    "data.show_batch()"
   ]
  },
  {
   "cell_type": "code",
   "execution_count": 4,
   "metadata": {},
   "outputs": [
    {
     "name": "stdout",
     "output_type": "stream",
     "text": [
      "LR Finder is complete, type {learner_name}.recorder.plot() to see the graph.\n"
     ]
    },
    {
     "data": {
      "image/png": "[encoded data removed]",
      "text/plain": [
       "<Figure size 432x288 with 1 Axes>"
      ]
     },
     "metadata": {
      "needs_background": "light"
     },
     "output_type": "display_data"
    }
   ],
   "source": [
    "# Consider restricting sales forecasts to within 20% of the maximum seen\n",
    "# As seen in 'y_range' in the call to tabular_learner below, we don't actually use this -\n",
    "# in testing, it didn't help, in fact it sat on forecasts too much and hurt our rmspe\n",
    "max_y = np.max(df['sales'])\n",
    "y_range = torch.tensor([0, np.log(max_y*1.2)], device=defaults.device)\n",
    "\n",
    "learn = tabular_learner(data, layers=[100,100], ps=[0.001, 0.01], emb_drop=0.01, metrics=exp_rmspe, y_range=None,\n",
    "                        callback_fns=[partial(callbacks.tracker.TrackerCallback, monitor='exp_rmspe'),\n",
    "                                      partial(callbacks.tracker.EarlyStoppingCallback, mode='min',\n",
    "                                              monitor='exp_rmspe', min_delta=0.01, patience=1),\n",
    "                                      partial(callbacks.tracker.SaveModelCallback, monitor='exp_rmspe', mode='min',\n",
    "                                              every='improvement',\n",
    "                                              name=datetime.now().strftime(\"%Y-%m-%d-%X\"))])\n",
    "\n",
    "learn.lr_find()\n",
    "learn.recorder.plot()"
   ]
  },
  {
   "cell_type": "code",
   "execution_count": 5,
   "metadata": {},
   "outputs": [
    {
     "data": {
      "text/html": [
       "\n",
       "    <div>\n",
       "        <style>\n",
       "            /* Turns off some styling */\n",
       "            progress {\n",
       "                /* gets rid of default border in Firefox and Opera. */\n",
       "                border: none;\n",
       "                /* Needs to be in here for Safari polyfill so background images work as expected. */\n",
       "                background-size: auto;\n",
       "            }\n",
       "            .progress-bar-interrupted, .progress-bar-interrupted::-webkit-progress-bar {\n",
       "                background: #F44336;\n",
       "            }\n",
       "        </style>\n",
       "      <progress value='3' class='' max='10', style='width:300px; height:20px; vertical-align: middle;'></progress>\n",
       "      30.00% [3/10 04:17<10:00]\n",
       "    </div>\n",
       "    \n",
       "<table style='width:300px; margin-bottom:10px'>\n",
       "  <tr>\n",
       "    <th>epoch</th>\n",
       "    <th>train_loss</th>\n",
       "    <th>valid_loss</th>\n",
       "    <th>exp_rmspe</th>\n",
       "  </tr>\n",
       "  <tr>\n",
       "    <th>1</th>\n",
       "    <th>0.036817</th>\n",
       "    <th>0.016078</th>\n",
       "    <th>0.121901</th>\n",
       "  </tr>\n",
       "  <tr>\n",
       "    <th>2</th>\n",
       "    <th>0.017778</th>\n",
       "    <th>0.002871</th>\n",
       "    <th>0.048016</th>\n",
       "  </tr>\n",
       "  <tr>\n",
       "    <th>3</th>\n",
       "    <th>0.013949</th>\n",
       "    <th>0.002362</th>\n",
       "    <th>0.046223</th>\n",
       "  </tr>\n",
       "</table>\n",
       "\n",
       "\n",
       "    <div>\n",
       "        <style>\n",
       "            /* Turns off some styling */\n",
       "            progress {\n",
       "                /* gets rid of default border in Firefox and Opera. */\n",
       "                border: none;\n",
       "                /* Needs to be in here for Safari polyfill so background images work as expected. */\n",
       "                background-size: auto;\n",
       "            }\n",
       "            .progress-bar-interrupted, .progress-bar-interrupted::-webkit-progress-bar {\n",
       "                background: #F44336;\n",
       "            }\n",
       "        </style>\n",
       "      <progress value='2513' class='' max='2513', style='width:300px; height:20px; vertical-align: middle;'></progress>\n",
       "      100.00% [2513/2513 00:07<00:00]\n",
       "    </div>\n",
       "    "
      ],
      "text/plain": [
       "<IPython.core.display.HTML object>"
      ]
     },
     "metadata": {},
     "output_type": "display_data"
    },
    {
     "name": "stdout",
     "output_type": "stream",
     "text": [
      "Epoch 4: early stopping\n"
     ]
    }
   ],
   "source": [
    "# I don't think this actually does anything, but neither does blowing on the dice in a casino.\n",
    "# C'mon baby, Daddy needs a new pair of shoes!\n",
    "import random\n",
    "random.seed(42)\n",
    "\n",
    "# In previous tests I found that although the learning-rate finder above would make you want to use 1e-2,\n",
    "# that's too high - it diverges all the time. Instead find the rate that you want to use, then back it \n",
    "# down by a factor of ten, so 1e-3 in this case\n",
    "learn.fit_one_cycle(cyc_len=10, max_lr=1e-3)"
   ]
  },
  {
   "cell_type": "code",
   "execution_count": 7,
   "metadata": {},
   "outputs": [
    {
     "data": {
      "image/png": "[encoded data removed]",
      "text/plain": [
       "<Figure size 432x288 with 1 Axes>"
      ]
     },
     "metadata": {
      "needs_background": "light"
     },
     "output_type": "display_data"
    }
   ],
   "source": [
    "# Our predictions and actuals are in log form, so get them and exp them\n",
    "train_log_preds, train_log_reals = learn.get_preds(ds_type=DatasetType.Train)\n",
    "train_preds = np.exp(train_log_preds).flatten()\n",
    "train_reals = np.exp(train_log_reals)\n",
    "\n",
    "# Put in dataframe for easy access\n",
    "train_sub = pd.DataFrame({'Predicted': train_preds, 'Actual': train_reals})\n",
    "\n",
    "# Prepare and show chart\n",
    "fig, ax = plt.subplots()\n",
    "ax.scatter(train_sub.Predicted, train_sub.Actual)\n",
    "ax.plot(np.linspace(0,40000,5000), np.linspace(0,40000,5000), color='black')\n",
    "ax.set_title('Forecasts on the Training set')\n",
    "ax.set_xlabel('Predicted sales')\n",
    "ax.set_ylabel('Actual sales')\n",
    "ax.set_xticklabels(['${:,.0f}'.format(x) for x in ax.get_xticks()])\n",
    "ax.set_yticklabels(['${:,.0f}'.format(x) for x in ax.get_yticks()]);"
   ]
  },
  {
   "cell_type": "code",
   "execution_count": 8,
   "metadata": {},
   "outputs": [
    {
     "data": {
      "text/plain": [
       "0.04451378147327641"
      ]
     },
     "execution_count": 8,
     "metadata": {},
     "output_type": "execute_result"
    }
   ],
   "source": [
    "def rmspe(predicted, actual):\n",
    "    return np.sqrt((((actual - predicted)/actual)**2).sum()/len(actual))\n",
    "\n",
    "rmspe(train_sub.Predicted.values, train_sub.Actual.values)"
   ]
  },
  {
   "cell_type": "code",
   "execution_count": 10,
   "metadata": {},
   "outputs": [
    {
     "data": {
      "image/png": "[encoded data removed]",
      "text/plain": [
       "<Figure size 432x288 with 1 Axes>"
      ]
     },
     "metadata": {
      "needs_background": "light"
     },
     "output_type": "display_data"
    }
   ],
   "source": [
    "# Our predictions and actuals are in log form, so get them and exp them\n",
    "log_preds, log_reals = learn.get_preds(ds_type=DatasetType.Valid)\n",
    "preds = np.exp(log_preds).flatten()\n",
    "reals = np.exp(log_reals)\n",
    "\n",
    "# Put in dataframe for easy access\n",
    "sub = pd.DataFrame({'Predicted': preds, 'Actual': reals})\n",
    "\n",
    "# Prepare and show chart\n",
    "fig, ax = plt.subplots()\n",
    "ax.scatter(sub.Predicted, sub.Actual)\n",
    "ax.plot(np.linspace(0,40000,5000), np.linspace(0,40000,5000), color='black')\n",
    "ax.set_title('Forecasts on the Validation set')\n",
    "ax.set_xlabel('Predicted sales')\n",
    "ax.set_ylabel('Actual sales')\n",
    "ax.set_xticklabels(['${:,.0f}'.format(x) for x in ax.get_xticks()])\n",
    "ax.set_yticklabels(['${:,.0f}'.format(x) for x in ax.get_yticks()]);"
   ]
  },
  {
   "cell_type": "code",
   "execution_count": 11,
   "metadata": {},
   "outputs": [
    {
     "data": {
      "text/plain": [
       "0.04651872935935252"
      ]
     },
     "execution_count": 11,
     "metadata": {},
     "output_type": "execute_result"
    }
   ],
   "source": [
    "rmspe(sub.Predicted.values, sub.Actual.values)"
   ]
  },
  {
   "cell_type": "code",
   "execution_count": 12,
   "metadata": {},
   "outputs": [
    {
     "data": {
      "text/plain": [
       "PosixPath('../../models')"
      ]
     },
     "execution_count": 12,
     "metadata": {},
     "output_type": "execute_result"
    }
   ],
   "source": [
    "learn.path"
   ]
  },
  {
   "cell_type": "code",
   "execution_count": 13,
   "metadata": {},
   "outputs": [],
   "source": [
    "learn.save('bad_model_do_not_use_0.0465')\n",
    "learn.export('bad_model_do_not_use_0.0465')"
   ]
  },
  {
   "cell_type": "code",
   "execution_count": 14,
   "metadata": {},
   "outputs": [],
   "source": [
    "# Redoing the training-set transforms for the test set\n",
    "# Yes this is copy/paste - three strikes and you're out, here we have a full count :)\n",
    "\n",
    "# Import test_data dataframe and prep for use\n",
    "test_df_raw = pd.read_csv(DATA_PATH/'test_data.csv', low_memory=False)\n",
    "test_df = test_df_raw.copy()\n",
    "\n",
    "# Drop week_start as that will get taken into account by add_datepart() for date\n",
    "test_df.drop('week_start', axis='columns', inplace=True)\n",
    "\n",
    "# Drop any rows where sales = 0 since we don't need to forecast those\n",
    "test_df = test_df[test_df.sales != 0]\n",
    "\n",
    "# Run tabular.add_datepart() on both dfs to add columns about the date: ['Year', 'Month', 'Week', 'Day', 'Dayofweek',\n",
    "# 'Dayofyear', 'Is_month_end', 'Is_month_start', 'Is_quarter_end', 'Is_quarter_start', 'Is_year_end', 'Is_year_start']\n",
    "tabular.add_datepart(test_df, 'date', drop=True, time=False)\n",
    "\n",
    "# Category names, to which we'll apply embeddings\n",
    "cat_names = ['assortment', 'events', 'promo_interval', 'state', 'state_holiday', 'store_type']\n",
    "\n",
    "# Add the date-related categories\n",
    "cat_names += ['Day', 'Dayofweek', 'Is_month_end', 'Is_month_start', 'Is_quarter_end', 'Is_quarter_start', 'Is_year_end',\n",
    "              'Is_year_start', 'Month', 'Week', 'Year',]\n",
    "\n",
    "# Continuous-variable names, which we'll make sure are all represented as floats\n",
    "# Just use set difference to make sure everything is covered\n",
    "cont_names = list(set(train_valid_df.columns) - set(cat_names))\n",
    "\n",
    "# Set up transforms to 1) replace missing values for continuous variables by the median column value, 2) transform all\n",
    "# categorical variables into categories, 3) normalize continuous variables.\n",
    "# Note that FillMissing should do nothing since we shouldn't have any NaNs -- leaving it in anyway\n",
    "procs = [FillMissing, Categorify, Normalize]"
   ]
  },
  {
   "cell_type": "code",
   "execution_count": 17,
   "metadata": {},
   "outputs": [],
   "source": [
    "learn = load_learner(path='../../models/', fname='bad_model_do_not_use_0.0465.pkl',\n",
    "                      test=TabularList.from_df(test_df, path=path))"
   ]
  },
  {
   "cell_type": "code",
   "execution_count": 19,
   "metadata": {},
   "outputs": [
    {
     "data": {
      "image/png": "[encoded data removed]",
      "text/plain": [
       "<Figure size 432x288 with 1 Axes>"
      ]
     },
     "metadata": {
      "needs_background": "light"
     },
     "output_type": "display_data"
    }
   ],
   "source": [
    "log_test_preds, log_test_reals = learn.get_preds(ds_type=DatasetType.Test)\n",
    "test_preds = np.exp(log_test_preds).flatten()\n",
    "#test_reals = np.exp(log_test_reals)\n",
    "test_reals = test_df_raw.loc[test_df_raw.sales != 0, 'sales'].values\n",
    "test_sub = pd.DataFrame({'Predicted': test_preds, 'Actual': test_reals})\n",
    "fig, ax = plt.subplots()\n",
    "ax.scatter(test_sub.Predicted, test_sub.Actual)\n",
    "ax.plot(np.linspace(0,40000,5000), np.linspace(0,40000,5000), color='black')\n",
    "ax.set_title('Forecasts on the Test set')\n",
    "ax.set_xlabel('Predicted sales')\n",
    "ax.set_ylabel('Actual sales')\n",
    "ax.set_xticklabels(['${:,.0f}'.format(x) for x in ax.get_xticks()])\n",
    "ax.set_yticklabels(['${:,.0f}'.format(x) for x in ax.get_yticks()]);"
   ]
  },
  {
   "cell_type": "code",
   "execution_count": 20,
   "metadata": {},
   "outputs": [
    {
     "data": {
      "text/plain": [
       "0.03751727971967949"
      ]
     },
     "execution_count": 20,
     "metadata": {},
     "output_type": "execute_result"
    }
   ],
   "source": [
    "rmspe(test_sub.Predicted.values, test_sub.Actual.values)"
   ]
  },
  {
   "cell_type": "code",
   "execution_count": 26,
   "metadata": {},
   "outputs": [
    {
     "data": {
      "image/png": "[encoded data removed]",
      "text/plain": [
       "<Figure size 432x288 with 1 Axes>"
      ]
     },
     "metadata": {
      "needs_background": "light"
     },
     "output_type": "display_data"
    }
   ],
   "source": [
    "wrongs = test_sub[np.abs((test_sub.Predicted - test_sub.Actual) / test_sub.Actual) > 0.1]\n",
    "#len(wrongs)/len(test_sub) # 0.0205\n",
    "#len(wrongs) # 827\n",
    "\n",
    "# Create and display the chart\n",
    "fig, ax = plt.subplots()\n",
    "ax.scatter(wrongs.Predicted, wrongs.Actual)\n",
    "ax.plot(np.linspace(0,40000,5000), np.linspace(0,40000,5000), color='black')\n",
    "ax.set_title('Forecasts on the Test Set that are Wrong by > 10%')\n",
    "ax.set_xlabel('Predicted sales')\n",
    "ax.set_ylabel('Actual sales')\n",
    "ax.set_xticklabels(['${:,.0f}'.format(x) for x in ax.get_xticks()])\n",
    "ax.set_yticklabels(['${:,.0f}'.format(x) for x in ax.get_yticks()]);"
   ]
  },
  {
   "cell_type": "code",
   "execution_count": 22,
   "metadata": {},
   "outputs": [
    {
     "data": {
      "text/plain": [
       "377"
      ]
     },
     "execution_count": 22,
     "metadata": {},
     "output_type": "execute_result"
    }
   ],
   "source": [
    "wrong_and_big = test_sub[(np.abs((test_sub.Predicted - test_sub.Actual) / test_sub.Actual) > 0.1) &\n",
    "                         (test_sub.Actual > 10000)]\n",
    "len(wrong_and_big) # 22\n",
    "#plt.scatter(wrong_and_big.Predicted, wrong_and_big.Actual)"
   ]
  },
  {
   "cell_type": "code",
   "execution_count": 27,
   "metadata": {},
   "outputs": [
    {
     "data": {
      "image/png": "[encoded data removed]",
      "text/plain": [
       "<Figure size 432x288 with 1 Axes>"
      ]
     },
     "metadata": {
      "needs_background": "light"
     },
     "output_type": "display_data"
    }
   ],
   "source": [
    "close = test_sub[np.abs((test_sub.Predicted - test_sub.Actual) / test_sub.Actual) < 0.01]\n",
    "len(close)/len(test_sub) # 0.1657564172583288\n",
    "len(close) # 6677\n",
    "\n",
    "# Create and display the chart\n",
    "fig, ax = plt.subplots()\n",
    "ax.scatter(close.Predicted, close.Actual)\n",
    "ax.plot(np.linspace(0,40000,5000), np.linspace(0,40000,5000), color='black')\n",
    "ax.set_title('Forecasts on the Test Set that are Wrong by < 1%')\n",
    "ax.set_xlabel('Predicted sales')\n",
    "ax.set_ylabel('Actual sales')\n",
    "ax.set_xticklabels(['${:,.0f}'.format(x) for x in ax.get_xticks()])\n",
    "ax.set_yticklabels(['${:,.0f}'.format(x) for x in ax.get_yticks()]);"
   ]
  },
  {
   "cell_type": "code",
   "execution_count": 24,
   "metadata": {},
   "outputs": [
    {
     "data": {
      "text/html": [
       "<div>\n",
       "<style scoped>\n",
       "    .dataframe tbody tr th:only-of-type {\n",
       "        vertical-align: middle;\n",
       "    }\n",
       "\n",
       "    .dataframe tbody tr th {\n",
       "        vertical-align: top;\n",
       "    }\n",
       "\n",
       "    .dataframe thead th {\n",
       "        text-align: right;\n",
       "    }\n",
       "</style>\n",
       "<table border=\"1\" class=\"dataframe\">\n",
       "  <thead>\n",
       "    <tr style=\"text-align: right;\">\n",
       "      <th></th>\n",
       "      <th>Predicted</th>\n",
       "      <th>Actual</th>\n",
       "    </tr>\n",
       "  </thead>\n",
       "  <tbody>\n",
       "    <tr>\n",
       "      <th>0</th>\n",
       "      <td>4144.839844</td>\n",
       "      <td>4097.0</td>\n",
       "    </tr>\n",
       "    <tr>\n",
       "      <th>1</th>\n",
       "      <td>8937.591797</td>\n",
       "      <td>9351.0</td>\n",
       "    </tr>\n",
       "    <tr>\n",
       "      <th>2</th>\n",
       "      <td>6711.314453</td>\n",
       "      <td>6895.0</td>\n",
       "    </tr>\n",
       "    <tr>\n",
       "      <th>3</th>\n",
       "      <td>7364.810059</td>\n",
       "      <td>7656.0</td>\n",
       "    </tr>\n",
       "    <tr>\n",
       "      <th>4</th>\n",
       "      <td>5893.949707</td>\n",
       "      <td>6039.0</td>\n",
       "    </tr>\n",
       "    <tr>\n",
       "      <th>5</th>\n",
       "      <td>5107.802734</td>\n",
       "      <td>5135.0</td>\n",
       "    </tr>\n",
       "    <tr>\n",
       "      <th>6</th>\n",
       "      <td>7307.001953</td>\n",
       "      <td>7604.0</td>\n",
       "    </tr>\n",
       "    <tr>\n",
       "      <th>7</th>\n",
       "      <td>4348.073242</td>\n",
       "      <td>4318.0</td>\n",
       "    </tr>\n",
       "    <tr>\n",
       "      <th>8</th>\n",
       "      <td>5735.626953</td>\n",
       "      <td>5823.0</td>\n",
       "    </tr>\n",
       "    <tr>\n",
       "      <th>9</th>\n",
       "      <td>6008.357910</td>\n",
       "      <td>6125.0</td>\n",
       "    </tr>\n",
       "    <tr>\n",
       "      <th>10</th>\n",
       "      <td>7786.768555</td>\n",
       "      <td>8127.0</td>\n",
       "    </tr>\n",
       "    <tr>\n",
       "      <th>11</th>\n",
       "      <td>4895.636230</td>\n",
       "      <td>4872.0</td>\n",
       "    </tr>\n",
       "    <tr>\n",
       "      <th>12</th>\n",
       "      <td>6239.552246</td>\n",
       "      <td>6380.0</td>\n",
       "    </tr>\n",
       "    <tr>\n",
       "      <th>13</th>\n",
       "      <td>5924.380859</td>\n",
       "      <td>5935.0</td>\n",
       "    </tr>\n",
       "    <tr>\n",
       "      <th>14</th>\n",
       "      <td>6392.381836</td>\n",
       "      <td>6557.0</td>\n",
       "    </tr>\n",
       "  </tbody>\n",
       "</table>\n",
       "</div>"
      ],
      "text/plain": [
       "      Predicted  Actual\n",
       "0   4144.839844  4097.0\n",
       "1   8937.591797  9351.0\n",
       "2   6711.314453  6895.0\n",
       "3   7364.810059  7656.0\n",
       "4   5893.949707  6039.0\n",
       "5   5107.802734  5135.0\n",
       "6   7307.001953  7604.0\n",
       "7   4348.073242  4318.0\n",
       "8   5735.626953  5823.0\n",
       "9   6008.357910  6125.0\n",
       "10  7786.768555  8127.0\n",
       "11  4895.636230  4872.0\n",
       "12  6239.552246  6380.0\n",
       "13  5924.380859  5935.0\n",
       "14  6392.381836  6557.0"
      ]
     },
     "execution_count": 24,
     "metadata": {},
     "output_type": "execute_result"
    }
   ],
   "source": [
    "test_sub.head(15)"
   ]
  }
 ],
 "metadata": {
  "kernelspec": {
   "display_name": "Python 3",
   "language": "python",
   "name": "python3"
  },
  "language_info": {
   "codemirror_mode": {
    "name": "ipython",
    "version": 3
   },
   "file_extension": ".py",
   "mimetype": "text/x-python",
   "name": "python",
   "nbconvert_exporter": "python",
   "pygments_lexer": "ipython3",
   "version": "3.7.1"
  }
 },
 "nbformat": 4,
 "nbformat_minor": 2
}
