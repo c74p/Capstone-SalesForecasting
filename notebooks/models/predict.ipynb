{
 "cells": [
  {
   "cell_type": "code",
   "execution_count": 1,
   "metadata": {},
   "outputs": [],
   "source": [
    "import contextlib\n",
    "from datetime import datetime\n",
    "from fastai import *\n",
    "from fastai.tabular import *\n",
    "import io\n",
    "import pandas as pd\n",
    "from pathlib import Path\n",
    "import random"
   ]
  },
  {
   "cell_type": "code",
   "execution_count": 2,
   "metadata": {},
   "outputs": [],
   "source": [
    "DATA_PATH = Path('../../data/interim')\n",
    "path = Path('../../models/')"
   ]
  },
  {
   "cell_type": "code",
   "execution_count": 3,
   "metadata": {},
   "outputs": [],
   "source": [
    "learn = load_learner('../../models')"
   ]
  },
  {
   "cell_type": "code",
   "execution_count": 9,
   "metadata": {},
   "outputs": [
    {
     "data": {
      "text/plain": [
       "4097.0"
      ]
     },
     "execution_count": 9,
     "metadata": {},
     "output_type": "execute_result"
    }
   ],
   "source": [
    "test_df = pd.read_csv(DATA_PATH/'test_data.csv', low_memory=False)\n",
    "\n",
    "# Drop week_start as that will get taken into account by add_datepart() for date\n",
    "test_df.drop('week_start', axis='columns', inplace=True)\n",
    "\n",
    "# Drop any rows where sales = 0 since we don't need to forecast those\n",
    "test_df = test_df[test_df.sales != 0]\n",
    "\n",
    "# Run tabular.add_datepart() on both dfs to add columns about the date: ['Year', 'Month', 'Week', 'Day', 'Dayofweek',\n",
    "# 'Dayofyear', 'Is_month_end', 'Is_month_start', 'Is_quarter_end', 'Is_quarter_start', 'Is_year_end', 'Is_year_start']\n",
    "tabular.add_datepart(test_df, 'date', drop=True, time=False)\n",
    "\n",
    "example = test_df.iloc[0]\n",
    "learn.predict(example) # (FloatItem [8.3232], tensor([8.3232]), tensor([8.3232]))\n",
    "\n",
    "exp(8.3232) # 4118.317561157504\n",
    "test_df.iloc[0].sales # 4097.0"
   ]
  }
 ],
 "metadata": {
  "kernelspec": {
   "display_name": "Python 3",
   "language": "python",
   "name": "python3"
  },
  "language_info": {
   "codemirror_mode": {
    "name": "ipython",
    "version": 3
   },
   "file_extension": ".py",
   "mimetype": "text/x-python",
   "name": "python",
   "nbconvert_exporter": "python",
   "pygments_lexer": "ipython3",
   "version": "3.7.1"
  }
 },
 "nbformat": 4,
 "nbformat_minor": 2
}
